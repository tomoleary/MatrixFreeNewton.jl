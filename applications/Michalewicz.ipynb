{
 "cells": [
  {
   "cell_type": "code",
   "execution_count": 1,
   "id": "318d0aec",
   "metadata": {},
   "outputs": [],
   "source": [
    "using Random\n",
    "\n",
    "using ScalableNewton"
   ]
  },
  {
   "cell_type": "markdown",
   "id": "b41e0c2e",
   "metadata": {},
   "source": [
    "## [Michalewicz Function](https://www.sfu.ca/~ssurjano/michal.html)\n",
    "\n",
    "\n",
    "$-\\sum_{i=1}^{n}\\sin(x_i)\\sin^{2m}\\left(\\frac{ix_i^2}{\\pi}\\right)$"
   ]
  },
  {
   "cell_type": "code",
   "execution_count": 2,
   "id": "4471cc8a",
   "metadata": {},
   "outputs": [
    {
     "name": "stdout",
     "output_type": "stream",
     "text": [
      "Now for gradient descent \n"
     ]
    },
    {
     "ename": "LoadError",
     "evalue": "MethodError: no method matching gradientDescent(::typeof(michalewicz), ::Vector{Float64}; iterations=100, history=false)\n\u001b[0mClosest candidates are:\n\u001b[0m  gradientDescent(::Any, ::Any; alpha, iterations, verbose, printing_frequency, tracing) at /Users/tomoleary/Programming/github_repos/ScalableNewton.jl/src/gradientDescent.jl:4\u001b[91m got unsupported keyword argument \"history\"\u001b[39m",
     "output_type": "error",
     "traceback": [
      "MethodError: no method matching gradientDescent(::typeof(michalewicz), ::Vector{Float64}; iterations=100, history=false)\n\u001b[0mClosest candidates are:\n\u001b[0m  gradientDescent(::Any, ::Any; alpha, iterations, verbose, printing_frequency, tracing) at /Users/tomoleary/Programming/github_repos/ScalableNewton.jl/src/gradientDescent.jl:4\u001b[91m got unsupported keyword argument \"history\"\u001b[39m",
      "",
      "Stacktrace:",
      " [1] kwerr(::NamedTuple{(:iterations, :history), Tuple{Int64, Bool}}, ::Function, ::Function, ::Vector{Float64})",
      "   @ Base ./error.jl:157",
      " [2] top-level scope",
      "   @ In[2]:17",
      " [3] eval",
      "   @ ./boot.jl:360 [inlined]",
      " [4] include_string(mapexpr::typeof(REPL.softscope), mod::Module, code::String, filename::String)",
      "   @ Base ./loading.jl:1094"
     ]
    }
   ],
   "source": [
    "function michalewicz(x::AbstractVector{T}) where T\n",
    "    f = zero(T)\n",
    "    for i = 1:size(x)[1]\n",
    "        f -= sin(x[i])*(sin((i*x[i]^2)/pi))^(20)\n",
    "    end\n",
    "    return f\n",
    "end\n",
    "\n",
    "random_state = Random.MersenneTwister(0)\n",
    "\n",
    "n = 100\n",
    "iterations = 100\n",
    "half_rank = Int(floor(0.5*n))\n",
    "x_0 = randn(random_state,n)\n",
    "\n",
    "print(\"Now for gradient descent \\n\")\n",
    "w_star_gd,logger_gd = gradientDescent(michalewicz,x_0,iterations = iterations)\n",
    "\n",
    "print(\"Now for curvature gradient descent \\n\")\n",
    "w_star_gd,logger_csgd = curvatureScaledGradientDescent(michalewicz,x_0,iterations = iterations)\n",
    "\n",
    "\n",
    "print(\"Now for Newton \\n\")\n",
    "w_star_newton,logger_full_newton = fullNewton(michalewicz,x_0,alpha = 1e0,iterations=iterations)\n",
    "\n",
    "\n"
   ]
  },
  {
   "cell_type": "code",
   "execution_count": 3,
   "id": "640d296d",
   "metadata": {
    "scrolled": true
   },
   "outputs": [
    {
     "name": "stdout",
     "output_type": "stream",
     "text": [
      "Now for low rank SFNewton with full Hessian \n",
      "At initial guess obj = 1.2738719186494138\n",
      "\n",
      "At iteration 1 obj = -2.411775540400187 lambda_1 = -136955.05996494458 lambda_r = -7.299015478074789e-37\n",
      "At iteration 2 obj = -4.311787563246001 lambda_1 = 133056.47360949652 lambda_r = -7.299015478074789e-37\n",
      "At iteration 3 obj = -5.1999497093539535 lambda_1 = 226239.07732924918 lambda_r = -7.299015478074789e-37\n",
      "At iteration 4 obj = -6.067051641606152 lambda_1 = 278771.40282074735 lambda_r = -7.299015478074789e-37\n",
      "At iteration 5 obj = -7.860189790149674 lambda_1 = 300664.4547251719 lambda_r = -7.299015478074789e-37\n",
      "At iteration 6 obj = -8.956547719430835 lambda_1 = 300733.0310773485 lambda_r = -7.299015478074789e-37\n",
      "At iteration 7 obj = -9.791366209307675 lambda_1 = 300733.0300659185 lambda_r = -7.299015478074789e-37\n",
      "At iteration 8 obj = -9.84038066267209 lambda_1 = 300733.0300659221 lambda_r = -7.299015478074789e-37\n",
      "At iteration 9 obj = -10.310023776421687 lambda_1 = 300733.0300659221 lambda_r = -7.299015478074789e-37\n",
      "At iteration 10 obj = -10.337331573778815 lambda_1 = 300733.0300659221 lambda_r = -7.299015478074789e-37\n",
      "At iteration 11 obj = -10.498579658698313 lambda_1 = 300733.0300659221 lambda_r = -7.299015478074789e-37\n",
      "At iteration 12 obj = -11.791512892659599 lambda_1 = 300733.0300659221 lambda_r = -7.299015478074789e-37\n",
      "At iteration 13 obj = -12.309340208804043 lambda_1 = 300733.0300659221 lambda_r = -7.299015478074789e-37\n",
      "At iteration 14 obj = -13.142418911423105 lambda_1 = 300733.0300659221 lambda_r = -7.299015478074789e-37\n",
      "At iteration 15 obj = -13.846663796688963 lambda_1 = 300733.0300659221 lambda_r = -7.299015478074789e-37\n",
      "At iteration 16 obj = -13.247471449768032 lambda_1 = 300733.0300659221 lambda_r = -7.299015478074789e-37\n",
      "At iteration 17 obj = -14.058900257029942 lambda_1 = 300733.0300659221 lambda_r = -7.299015478074789e-37\n",
      "At iteration 18 obj = -14.2317035235783 lambda_1 = 300733.0300659221 lambda_r = -7.299015478074789e-37\n",
      "At iteration 19 obj = -14.530665342392735 lambda_1 = 300733.0300659221 lambda_r = -7.299015478074789e-37\n",
      "At iteration 20 obj = -15.158890784394714 lambda_1 = 300733.0300659221 lambda_r = -7.299015478074789e-37\n",
      "At iteration 21 obj = -16.47232130515691 lambda_1 = 300733.0300659221 lambda_r = -7.299015478074789e-37\n",
      "At iteration 22 obj = -16.432460727359583 lambda_1 = 300733.0300659221 lambda_r = -7.299015478074789e-37\n",
      "At iteration 23 obj = -16.527501339500052 lambda_1 = 300733.0300659221 lambda_r = -7.299015478074789e-37\n",
      "At iteration 24 obj = -16.73091943512332 lambda_1 = 300733.0300659221 lambda_r = -7.299015478074789e-37\n",
      "At iteration 25 obj = -16.885671114633674 lambda_1 = 300733.0300659221 lambda_r = -7.299015478074789e-37\n",
      "At iteration 26 obj = -17.19424261979084 lambda_1 = 300733.0300659221 lambda_r = -7.299015478074789e-37\n",
      "At iteration 27 obj = -16.957794458297077 lambda_1 = 300733.0300659221 lambda_r = -7.299015478074789e-37\n",
      "At iteration 28 obj = -17.179860374948817 lambda_1 = 300733.0300659221 lambda_r = -7.299015478074789e-37\n",
      "At iteration 29 obj = -16.6785744989237 lambda_1 = 300733.0300659221 lambda_r = -7.299015478074789e-37\n",
      "At iteration 30 obj = -17.1972513618141 lambda_1 = 300733.0300659221 lambda_r = -7.299015478074789e-37\n",
      "At iteration 31 obj = -17.984515095236375 lambda_1 = 300733.0300659221 lambda_r = -7.299015478074789e-37\n",
      "At iteration 32 obj = -18.620812247739345 lambda_1 = 300733.0300659221 lambda_r = -7.299015478074789e-37\n",
      "At iteration 33 obj = -18.644450833132485 lambda_1 = 300733.0300659221 lambda_r = -7.299015478074789e-37\n",
      "At iteration 34 obj = -18.51323584794902 lambda_1 = 300733.0300659221 lambda_r = -7.299015478074789e-37\n",
      "At iteration 35 obj = -18.13418134394697 lambda_1 = 300733.0300659221 lambda_r = -7.299015478074789e-37\n",
      "At iteration 36 obj = -18.585052661856178 lambda_1 = 300733.0300659221 lambda_r = -7.299015478074789e-37\n",
      "At iteration 37 obj = -17.964217322542208 lambda_1 = 300733.0300659221 lambda_r = -7.299015478074789e-37\n",
      "At iteration 38 obj = -18.04865743111875 lambda_1 = 300733.0300659221 lambda_r = -7.299015478074789e-37\n",
      "At iteration 39 obj = -18.316705984867877 lambda_1 = 300733.0300659221 lambda_r = -7.299015478074789e-37\n",
      "At iteration 40 obj = -17.95786641048689 lambda_1 = 300733.0300659221 lambda_r = -7.299015478074789e-37\n",
      "At iteration 41 obj = -18.03166395748349 lambda_1 = 300733.0300659221 lambda_r = -7.299015478074789e-37\n",
      "At iteration 42 obj = -18.244905129303323 lambda_1 = 300733.0300659221 lambda_r = -7.299015478074789e-37\n",
      "At iteration 43 obj = -18.253948151362984 lambda_1 = 300733.0300659221 lambda_r = -7.299015478074789e-37\n",
      "At iteration 44 obj = -18.25729184099496 lambda_1 = 300733.0300659221 lambda_r = -7.299015478074789e-37\n",
      "At iteration 45 obj = -18.26695373459248 lambda_1 = 300733.0300659221 lambda_r = -7.299015478074789e-37\n",
      "At iteration 46 obj = -18.295421868797924 lambda_1 = 300733.0300659221 lambda_r = -7.299015478074789e-37\n",
      "At iteration 47 obj = -18.381232790810113 lambda_1 = 300733.0300659221 lambda_r = -7.299015478074789e-37\n",
      "At iteration 48 obj = -18.650603967916812 lambda_1 = 300733.0300659221 lambda_r = -7.299015478074789e-37\n",
      "At iteration 49 obj = -19.185419562644576 lambda_1 = 300733.0300659221 lambda_r = -7.299015478074789e-37\n",
      "At iteration 50 obj = -19.244872607254695 lambda_1 = 300733.0300659221 lambda_r = -7.299015478074789e-37\n",
      "At iteration 51 obj = -19.24788527552895 lambda_1 = 300733.0300659221 lambda_r = -7.299015478074789e-37\n",
      "At iteration 52 obj = -19.253191937809305 lambda_1 = 300733.0300659221 lambda_r = -7.299015478074789e-37\n",
      "At iteration 53 obj = -19.268699009973087 lambda_1 = 300733.0300659221 lambda_r = -7.299015478074789e-37\n",
      "At iteration 54 obj = -19.314789971257984 lambda_1 = 300733.0300659221 lambda_r = -7.299015478074789e-37\n",
      "At iteration 55 obj = -19.45591802573882 lambda_1 = 300733.0300659221 lambda_r = -7.299015478074789e-37\n",
      "At iteration 56 obj = -19.905520086936825 lambda_1 = 300733.0300659221 lambda_r = -7.299015478074789e-37\n",
      "At iteration 57 obj = -19.344678787718152 lambda_1 = 300733.0300659221 lambda_r = -7.299015478074789e-37\n",
      "At iteration 58 obj = -19.54491393619442 lambda_1 = 300733.0300659221 lambda_r = -7.299015478074789e-37\n",
      "At iteration 59 obj = -20.176627290962678 lambda_1 = 300733.0300659221 lambda_r = -7.299015478074789e-37\n",
      "At iteration 60 obj = -20.424981882998523 lambda_1 = 300733.0300659221 lambda_r = -7.299015478074789e-37\n",
      "At iteration 61 obj = -20.357298478067552 lambda_1 = 300733.0300659221 lambda_r = -7.299015478074789e-37\n",
      "At iteration 62 obj = -21.153165068665867 lambda_1 = 300733.0300659221 lambda_r = -7.299015478074789e-37\n",
      "At iteration 63 obj = -21.185721966306136 lambda_1 = 300733.0300659221 lambda_r = -7.299015478074789e-37\n",
      "At iteration 64 obj = -21.21987306489362 lambda_1 = 300733.0300659221 lambda_r = -7.299015478074789e-37\n",
      "At iteration 65 obj = -21.31527393233623 lambda_1 = 300733.0300659221 lambda_r = -7.299015478074789e-37\n",
      "At iteration 66 obj = -21.38973394195682 lambda_1 = 300733.0300659221 lambda_r = -7.299015478074789e-37\n",
      "At iteration 67 obj = -21.392860910648523 lambda_1 = 300733.0300659221 lambda_r = -7.299015478074789e-37\n",
      "At iteration 68 obj = -21.392861052951083 lambda_1 = 300733.0300659221 lambda_r = -7.299015478074789e-37\n",
      "At iteration 69 obj = -21.392861052951933 lambda_1 = 300733.0300659221 lambda_r = -7.299015478074789e-37\n",
      "At iteration 70 obj = -21.392861052952757 lambda_1 = 300733.0300659221 lambda_r = -7.299015478074789e-37\n",
      "At iteration 71 obj = -21.39286105295355 lambda_1 = 300733.0300659221 lambda_r = -7.299015478074789e-37\n",
      "At iteration 72 obj = -21.39286105295431 lambda_1 = 300733.0300659221 lambda_r = -7.299015478074789e-37\n",
      "At iteration 73 obj = -21.392861052955052 lambda_1 = 300733.0300659221 lambda_r = -7.299015478074789e-37\n",
      "At iteration 74 obj = -21.39286105295576 lambda_1 = 300733.0300659221 lambda_r = -7.299015478074789e-37\n",
      "At iteration 75 obj = -21.392861052956437 lambda_1 = 300733.0300659221 lambda_r = -7.299015478074789e-37\n",
      "At iteration 76 obj = -21.392861052957105 lambda_1 = 300733.0300659221 lambda_r = -7.299015478074789e-37\n",
      "At iteration 77 obj = -21.39286105295775 lambda_1 = 300733.0300659221 lambda_r = -7.299015478074789e-37\n",
      "At iteration 78 obj = -21.392861052958366 lambda_1 = 300733.0300659221 lambda_r = -7.299015478074789e-37\n",
      "At iteration 79 obj = -21.392861052958963 lambda_1 = 300733.0300659221 lambda_r = -7.299015478074789e-37\n",
      "At iteration 80 obj = -21.392861052959553 lambda_1 = 300733.0300659221 lambda_r = -7.299015478074789e-37\n",
      "At iteration 81 obj = -21.392861052960114 lambda_1 = 300733.0300659221 lambda_r = -7.299015478074789e-37\n",
      "At iteration 82 obj = -21.392861052960665 lambda_1 = 300733.0300659221 lambda_r = -7.299015478074789e-37\n",
      "At iteration 83 obj = -21.392861052961198 lambda_1 = 300733.0300659221 lambda_r = -7.299015478074789e-37\n",
      "At iteration 84 obj = -21.39286105296171 lambda_1 = 300733.0300659221 lambda_r = -7.299015478074789e-37\n",
      "At iteration 85 obj = -21.39286105296221 lambda_1 = 300733.0300659221 lambda_r = -7.299015478074789e-37\n",
      "At iteration 86 obj = -21.392861052962697 lambda_1 = 300733.0300659221 lambda_r = -7.299015478074789e-37\n",
      "At iteration 87 obj = -21.392861052963166 lambda_1 = 300733.0300659221 lambda_r = -7.299015478074789e-37\n",
      "At iteration 88 obj = -21.392861052963625 lambda_1 = 300733.0300659221 lambda_r = -7.299015478074789e-37\n"
     ]
    },
    {
     "name": "stdout",
     "output_type": "stream",
     "text": [
      "At iteration 89 obj = -21.392861052964065 lambda_1 = 300733.0300659221 lambda_r = -7.299015478074789e-37\n",
      "At iteration 90 obj = -21.392861052964502 lambda_1 = 300733.0300659221 lambda_r = -7.299015478074789e-37\n",
      "At iteration 91 obj = -21.392861052964925 lambda_1 = 300733.0300659221 lambda_r = -7.299015478074789e-37\n",
      "At iteration 92 obj = -21.392861052965344 lambda_1 = 300733.0300659221 lambda_r = -7.299015478074789e-37\n",
      "At iteration 93 obj = -21.392861052965753 lambda_1 = 300733.0300659221 lambda_r = -7.299015478074789e-37\n",
      "At iteration 94 obj = -21.392861052966136 lambda_1 = 300733.0300659221 lambda_r = -7.299015478074789e-37\n",
      "At iteration 95 obj = -21.392861052966513 lambda_1 = 300733.0300659221 lambda_r = -7.299015478074789e-37\n",
      "At iteration 96 obj = -21.392861052966893 lambda_1 = 300733.0300659221 lambda_r = -7.299015478074789e-37\n",
      "At iteration 97 obj = -21.392861052967255 lambda_1 = 300733.0300659221 lambda_r = -7.299015478074789e-37\n",
      "At iteration 98 obj = -21.392861052967604 lambda_1 = 300733.0300659221 lambda_r = -7.299015478074789e-37\n",
      "At iteration 99 obj = -21.392861052967948 lambda_1 = 300733.0300659221 lambda_r = -7.299015478074789e-37\n",
      "At iteration 100 obj = -21.39286105296829 lambda_1 = 300733.0300659221 lambda_r = -7.299015478074789e-37\n",
      "Now for low rank SFNewton with reduced Hessian with half rank \n",
      "half rank = 50\n",
      "At initial guess obj = 1.2738719186494138\n",
      "\n",
      "At iteration 1 obj = -0.32108488223411263 lambda_1 = -136955.05996474682 lambda_r = -0.5930550033756106\n",
      "At iteration 2 obj = -3.8949714368860566 lambda_1 = -2.1950963509588018e7 lambda_r = 4.5717693123719805\n",
      "At iteration 3 obj = -4.827942177006917 lambda_1 = 5.2234115539232445e8 lambda_r = -2.4415761384395204e-5\n",
      "At iteration 4 obj = -7.1412735900013855 lambda_1 = 5.64003765118842e8 lambda_r = 1.2190174954672498e-5\n",
      "At iteration 5 obj = -8.303515382793874 lambda_1 = 5.644471514652221e8 lambda_r = 8.7156748523561e-6\n",
      "At iteration 6 obj = -9.299067495982493 lambda_1 = 5.644471524657804e8 lambda_r = 1.202133934454831e-5\n",
      "At iteration 7 obj = -10.443733344980929 lambda_1 = 5.644471525720652e8 lambda_r = 5.127059086577801e-6\n",
      "At iteration 8 obj = -10.486648273758084 lambda_1 = 5.644471525725154e8 lambda_r = 5.018986813012244e-6\n",
      "At iteration 9 obj = -10.60768525923738 lambda_1 = 5.644471525715326e8 lambda_r = 3.7849505460754073e-6\n",
      "At iteration 10 obj = -10.92045498168679 lambda_1 = 5.644471525722891e8 lambda_r = 2.9523440808040184e-6\n",
      "At iteration 11 obj = -11.628055349035913 lambda_1 = 5.644471525717304e8 lambda_r = 1.7924181277388933e-6\n",
      "At iteration 12 obj = -12.506674449367296 lambda_1 = 5.64447152538603e8 lambda_r = 4.346801870883511e-7\n",
      "At iteration 13 obj = -12.897842984304674 lambda_1 = 5.644471525687156e8 lambda_r = -1.1678491262308061e-7\n",
      "At iteration 14 obj = -13.499315763711735 lambda_1 = 5.644471518517104e8 lambda_r = -8.934849057520735e-7\n",
      "At iteration 15 obj = -15.073417686349108 lambda_1 = 5.644471153632414e8 lambda_r = -5.966281786016982e-7\n",
      "At iteration 16 obj = -15.366236644016242 lambda_1 = 5.644471341011902e8 lambda_r = 3.796721758615794e-7\n",
      "At iteration 17 obj = -15.515238582861807 lambda_1 = 5.644471525608692e8 lambda_r = 5.389608929018766e-6\n",
      "At iteration 18 obj = -15.900631200530118 lambda_1 = 5.64447152572456e8 lambda_r = 8.487211872455725e-6\n",
      "At iteration 19 obj = -15.902482581714336 lambda_1 = 5.644471525720935e8 lambda_r = 9.483098273529197e-6\n",
      "At iteration 20 obj = -16.69607982702736 lambda_1 = 5.644471525720818e8 lambda_r = 9.597343504037033e-6\n",
      "At iteration 21 obj = -17.513707534380444 lambda_1 = 5.644471525721282e8 lambda_r = 9.346337613135285e-6\n",
      "At iteration 22 obj = -17.94756622786803 lambda_1 = 5.64447152571989e8 lambda_r = 9.392044820751271e-6\n",
      "At iteration 23 obj = -18.00556517727393 lambda_1 = 5.644471525721706e8 lambda_r = 1.6253798569539415e-6\n",
      "At iteration 24 obj = -18.130456672814695 lambda_1 = 5.644471525721542e8 lambda_r = -6.557442186472251e-8\n",
      "At iteration 25 obj = -18.195932059842956 lambda_1 = 5.644471525721143e8 lambda_r = 1.2533817678937722e-9\n",
      "At iteration 26 obj = -18.38921629103797 lambda_1 = 5.644471525720937e8 lambda_r = 1.0156902846011158e-7\n",
      "At iteration 27 obj = -19.003692762650687 lambda_1 = 5.644471525721008e8 lambda_r = 1.9460593479136122e-7\n",
      "At iteration 28 obj = -18.653925526825834 lambda_1 = 5.644471525720834e8 lambda_r = 3.3158448813834333e-7\n",
      "At iteration 29 obj = -19.345319611278974 lambda_1 = 5.644471525721653e8 lambda_r = 6.541651309341248e-7\n",
      "At iteration 30 obj = -19.459371756244426 lambda_1 = 5.644471525720323e8 lambda_r = 4.977201546376027e-7\n",
      "At iteration 31 obj = -19.486005193137906 lambda_1 = 5.644471525720954e8 lambda_r = 5.097686556298326e-7\n",
      "At iteration 32 obj = -19.48628039525365 lambda_1 = 5.644471525720826e8 lambda_r = 5.008697156454883e-7\n",
      "At iteration 33 obj = -19.486825221968623 lambda_1 = 5.644471525720971e8 lambda_r = 5.309608060892002e-7\n",
      "At iteration 34 obj = -19.48841156989456 lambda_1 = 5.644471525720942e8 lambda_r = 4.417879388385836e-7\n",
      "At iteration 35 obj = -19.493087114167643 lambda_1 = 5.644471525720941e8 lambda_r = 5.172110604166028e-7\n",
      "At iteration 36 obj = -19.507135727345222 lambda_1 = 5.644471525720937e8 lambda_r = 5.047408213166931e-7\n",
      "At iteration 37 obj = -19.550796912557004 lambda_1 = 5.644471525720938e8 lambda_r = 4.345046120201408e-7\n",
      "At iteration 38 obj = -19.69281079027356 lambda_1 = 5.644471525720943e8 lambda_r = 5.605713487703053e-7\n",
      "At iteration 39 obj = -19.621819809533623 lambda_1 = 5.644471525720949e8 lambda_r = 5.735033360000728e-7\n",
      "At iteration 40 obj = -19.6716956257591 lambda_1 = 5.644471525720928e8 lambda_r = 3.271284883710375e-7\n",
      "At iteration 41 obj = -19.48615741397418 lambda_1 = 5.644471525720885e8 lambda_r = -1.6921084634337336e-7\n",
      "At iteration 42 obj = -19.486457073832536 lambda_1 = 5.644471525720958e8 lambda_r = -4.503672943370618e-6\n",
      "At iteration 43 obj = -19.487302584268885 lambda_1 = 5.64447152572094e8 lambda_r = -6.18687848491447e-6\n",
      "At iteration 44 obj = -19.489704183390742 lambda_1 = 5.644471525720943e8 lambda_r = 8.29702547337247e-6\n",
      "At iteration 45 obj = -19.49659130501698 lambda_1 = 5.644471525720936e8 lambda_r = 8.225003296013212e-6\n",
      "At iteration 46 obj = -19.516646276389654 lambda_1 = 5.644471525720937e8 lambda_r = 7.8920738776264e-6\n",
      "At iteration 47 obj = -19.576638486673758 lambda_1 = 5.644471525720923e8 lambda_r = 4.216180109121439e-6\n",
      "At iteration 48 obj = -19.757658923171096 lambda_1 = 5.644471525720898e8 lambda_r = -3.834739498181824e-6\n",
      "At iteration 49 obj = -19.83073405767051 lambda_1 = 5.644471525720929e8 lambda_r = -3.874566894311425e-6\n",
      "At iteration 50 obj = -20.004600289063294 lambda_1 = 5.644471525720987e8 lambda_r = -3.87684404005775e-6\n",
      "At iteration 51 obj = -20.472640887384845 lambda_1 = 5.644471525720927e8 lambda_r = -3.800351612381691e-6\n",
      "At iteration 52 obj = -20.287015613202488 lambda_1 = 5.644471525721768e8 lambda_r = -3.7379258268772073e-6\n",
      "At iteration 53 obj = -19.946644768627376 lambda_1 = 5.644471525720241e8 lambda_r = -3.628576701651101e-6\n",
      "At iteration 54 obj = -20.30843663687017 lambda_1 = 5.644471525720878e8 lambda_r = -3.0761914763218e-6\n",
      "At iteration 55 obj = -19.80426029977372 lambda_1 = 5.644471525721023e8 lambda_r = -3.1977151741824383e-6\n",
      "At iteration 56 obj = -19.85296885804687 lambda_1 = 5.644471525720927e8 lambda_r = -3.975787171224716e-6\n",
      "At iteration 57 obj = -20.001580836230193 lambda_1 = 5.644471525720938e8 lambda_r = -3.932136311656843e-6\n",
      "At iteration 58 obj = -20.473558826024227 lambda_1 = 5.644471525721264e8 lambda_r = -3.875114795945942e-6\n",
      "At iteration 59 obj = -19.86671433503092 lambda_1 = 5.644471525721024e8 lambda_r = -3.7795519587653474e-6\n",
      "At iteration 60 obj = -20.03770034583027 lambda_1 = 5.644471525720875e8 lambda_r = -3.74210499003505e-6\n",
      "At iteration 61 obj = -20.56250906794642 lambda_1 = 5.644471525720942e8 lambda_r = -3.7194081021190567e-6\n",
      "At iteration 62 obj = -20.123400877003004 lambda_1 = 5.644471525720882e8 lambda_r = -3.5844179393532715e-6\n",
      "At iteration 63 obj = -20.86273689888011 lambda_1 = 5.644471525720704e8 lambda_r = -3.8094762059816067e-6\n",
      "At iteration 64 obj = -20.13751911309186 lambda_1 = 5.64447152571985e8 lambda_r = -3.9494542823130126e-6\n",
      "At iteration 65 obj = -20.772080852206326 lambda_1 = 5.644471525718513e8 lambda_r = 1.836327341547925e-7\n",
      "At iteration 66 obj = -20.772127726045618 lambda_1 = 5.644471525720991e8 lambda_r = 2.1136417515788648e-7\n"
     ]
    },
    {
     "name": "stdout",
     "output_type": "stream",
     "text": [
      "At iteration 67 obj = -20.772238251365266 lambda_1 = 5.644471525720934e8 lambda_r = 2.0953050426966138e-7\n",
      "At iteration 68 obj = -20.77254923304748 lambda_1 = 5.644471525720928e8 lambda_r = 1.845740020400759e-7\n",
      "At iteration 69 obj = -20.77342900016619 lambda_1 = 5.644471525720931e8 lambda_r = 1.8358948771937482e-7\n",
      "At iteration 70 obj = -20.7759372741523 lambda_1 = 5.644471525720927e8 lambda_r = 2.0406517271688015e-7\n",
      "At iteration 71 obj = -20.78317408235498 lambda_1 = 5.644471525720929e8 lambda_r = 1.9095819574039364e-7\n",
      "At iteration 72 obj = -20.804472795366443 lambda_1 = 5.644471525720929e8 lambda_r = 1.9951947637934146e-7\n",
      "At iteration 73 obj = -20.869381938587946 lambda_1 = 5.644471525720932e8 lambda_r = 1.7530670606450094e-7\n",
      "At iteration 74 obj = -21.00214923752188 lambda_1 = 5.644471525720919e8 lambda_r = 2.0770422742612949e-7\n",
      "At iteration 75 obj = -21.011244839451518 lambda_1 = 5.644471525720953e8 lambda_r = 2.0519196679956865e-7\n",
      "At iteration 76 obj = -21.01126676841988 lambda_1 = 5.64447152572093e8 lambda_r = 1.7284409606783393e-7\n",
      "At iteration 77 obj = -21.011266768480805 lambda_1 = 5.644471525720929e8 lambda_r = 2.111029999660478e-7\n",
      "At iteration 78 obj = -21.011266768483196 lambda_1 = 5.644471525720919e8 lambda_r = 1.911946067920784e-7\n",
      "At iteration 79 obj = -21.011266768485505 lambda_1 = 5.644471525720929e8 lambda_r = 2.0199185942040886e-7\n",
      "At iteration 80 obj = -21.011266768487804 lambda_1 = 5.644471525720928e8 lambda_r = 1.6388394432784116e-7\n",
      "At iteration 81 obj = -21.011266768490028 lambda_1 = 5.644471525720931e8 lambda_r = 1.955999532345608e-7\n",
      "At iteration 82 obj = -21.01126676849226 lambda_1 = 5.644471525720922e8 lambda_r = 1.62482940316538e-7\n",
      "At iteration 83 obj = -21.011266768494423 lambda_1 = 5.64447152572093e8 lambda_r = 1.7268562667408513e-7\n",
      "At iteration 84 obj = -21.011266768496608 lambda_1 = 5.644471525720923e8 lambda_r = 1.4192467439956048e-7\n",
      "At iteration 85 obj = -21.01126676849876 lambda_1 = 5.644471525720928e8 lambda_r = 1.938253119208584e-7\n",
      "At iteration 86 obj = -21.011266768500974 lambda_1 = 5.644471525720923e8 lambda_r = 1.4231874597553634e-7\n",
      "At iteration 87 obj = -21.011266768503187 lambda_1 = 5.64447152572093e8 lambda_r = 1.8130349455831884e-7\n",
      "At iteration 88 obj = -21.01126676850554 lambda_1 = 5.644471525720916e8 lambda_r = 1.3509627318512765e-7\n",
      "At iteration 89 obj = -21.011266768507994 lambda_1 = 5.644471525720925e8 lambda_r = 1.8699955177341036e-7\n",
      "At iteration 90 obj = -21.01126676851076 lambda_1 = 5.644471525720927e8 lambda_r = 1.3069657914862448e-7\n",
      "At iteration 91 obj = -21.011266768513938 lambda_1 = 5.644471525720928e8 lambda_r = 1.7238740458144818e-7\n",
      "At iteration 92 obj = -21.01126676851798 lambda_1 = 5.644471525720924e8 lambda_r = 1.561206331760997e-7\n",
      "At iteration 93 obj = -21.011266768523566 lambda_1 = 5.644471525720925e8 lambda_r = 1.7028827188874784e-7\n",
      "At iteration 94 obj = -21.01126676853245 lambda_1 = 5.644471525720925e8 lambda_r = 1.4349672777694104e-7\n",
      "At iteration 95 obj = -21.01126676854866 lambda_1 = 5.644471525720925e8 lambda_r = 1.7563457099171835e-7\n",
      "At iteration 96 obj = -21.011266768583077 lambda_1 = 5.644471525720922e8 lambda_r = 1.3599409568365757e-7\n",
      "At iteration 97 obj = -21.011266768665696 lambda_1 = 5.644471525720929e8 lambda_r = 1.5893825880625503e-7\n",
      "At iteration 98 obj = -21.0112667688817 lambda_1 = 5.644471525720923e8 lambda_r = 1.418886083140447e-7\n",
      "At iteration 99 obj = -21.011266769471003 lambda_1 = 5.644471525720927e8 lambda_r = 1.758670983361003e-7\n",
      "At iteration 100 obj = -21.011266771106765 lambda_1 = 5.644471525720923e8 lambda_r = 1.299693038748539e-7\n"
     ]
    },
    {
     "data": {
      "text/plain": [
       "([0.6793296257840775, 0.708400690053799, -0.35308002644564596, -0.13484349766247172, 0.1295672104592549, 0.29736042406142105, 0.06512457077975595, -0.10910485682221963, -17.063216839700228, 2.7203270272999114  …  -0.4690610463000011, -5.649361894913917, -1.4955750248806339, 1.759935456758019, 1.6902629399274796, -1.5064421857071881, 2.3112303708789144, -0.08185075627025772, 1.3377987334106234, 1.236849062468806], nothing)"
      ]
     },
     "execution_count": 3,
     "metadata": {},
     "output_type": "execute_result"
    }
   ],
   "source": [
    "print(\"Now for low rank SFNewton with full Hessian \\n\")\n",
    "w_star_newton,logger_full_SFN = lowRankSaddleFreeNewton(michalewicz,x_0,hessian = \"full\",\n",
    "                                                            iterations = iterations,rank = n)\n",
    "\n",
    "# print(\"Now for low rank SFNewton with reduced Hessian with full rank \\n\")\n",
    "# w_star_newton,trace_newton = lowRankSaddleFreeNewton(michalewicz,x_0,hessian = \"reduced\",\n",
    "#                                                             iterations = iterations,history = false,rank = n)\n",
    "\n",
    "\n",
    "print(\"Now for low rank SFNewton with reduced Hessian with half rank \\n\")\n",
    "println(\"half rank = \",half_rank)\n",
    "w_star_newton,logger_lrsfn = lowRankSaddleFreeNewton(michalewicz,x_0,hessian = \"reduced\",alpha = 1e0,\n",
    "                                                    gamma = 1e-3,iterations = iterations,rank = half_rank)\n",
    "\n",
    "# print(\"Now for low rank SFNewton with gradient based Hessian \\n\")\n",
    "# w_star_newton,trace_newton = lowRankSaddleFreeNewton(rosenbrockn,zeros(n),hessian = \"from_gradient\",\n",
    "#                                                             iterations = 2*n,history = false,rank = n)"
   ]
  },
  {
   "cell_type": "markdown",
   "id": "d0fd6bab",
   "metadata": {},
   "source": []
  },
  {
   "cell_type": "code",
   "execution_count": 4,
   "id": "021acd05",
   "metadata": {},
   "outputs": [
    {
     "data": {
      "text/plain": [
       "π = 3.1415926535897..."
      ]
     },
     "execution_count": 4,
     "metadata": {},
     "output_type": "execute_result"
    }
   ],
   "source": [
    "pi"
   ]
  },
  {
   "cell_type": "code",
   "execution_count": 5,
   "id": "57a0a6f1",
   "metadata": {},
   "outputs": [
    {
     "data": {
      "text/plain": [
       "false"
      ]
     },
     "execution_count": 5,
     "metadata": {},
     "output_type": "execute_result"
    }
   ],
   "source": [
    "true & false\n"
   ]
  },
  {
   "cell_type": "code",
   "execution_count": null,
   "id": "3295e0b2",
   "metadata": {},
   "outputs": [],
   "source": []
  }
 ],
 "metadata": {
  "kernelspec": {
   "display_name": "Julia 1.6.0",
   "language": "julia",
   "name": "julia-1.6"
  },
  "language_info": {
   "file_extension": ".jl",
   "mimetype": "application/julia",
   "name": "julia",
   "version": "1.6.0"
  }
 },
 "nbformat": 4,
 "nbformat_minor": 5
}
