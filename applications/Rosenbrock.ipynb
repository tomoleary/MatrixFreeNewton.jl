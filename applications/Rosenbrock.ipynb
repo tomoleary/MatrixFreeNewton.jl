{
 "cells": [
  {
   "cell_type": "code",
   "execution_count": 1,
   "id": "318d0aec",
   "metadata": {},
   "outputs": [],
   "source": [
    "using Random\n",
    "using MatrixFreeNewton"
   ]
  },
  {
   "cell_type": "markdown",
   "id": "b41e0c2e",
   "metadata": {},
   "source": [
    "## [n-dimensional Rosenbrock](https://arxiv.org/pdf/1903.09556.pdf)\n",
    "\n",
    "\n",
    "$\\sum_{i=1}^{n-1} [100(x_{i+1} - x_i^2)^2 + (1-x_i)^2]$"
   ]
  },
  {
   "cell_type": "code",
   "execution_count": 2,
   "id": "4471cc8a",
   "metadata": {},
   "outputs": [
    {
     "name": "stdout",
     "output_type": "stream",
     "text": [
      "Now for gradient descent \n",
      "At initial guess obj = 9.0\n",
      "At iteration 10 obj = NaN\n",
      "At iteration 20 obj = NaN\n",
      "At iteration 30 obj = NaN\n",
      "At iteration 40 obj = NaN\n",
      "At iteration 50 obj = NaN\n",
      "At iteration 60 obj = NaN\n",
      "At iteration 70 obj = NaN\n",
      "At iteration 80 obj = NaN\n",
      "At iteration 90 obj = NaN\n",
      "At iteration 100 obj = NaN\n",
      "Now for curvature gradient descent \n",
      "At initial guess obj = 9.0\n",
      "At iteration 10 obj = 8.709303623211357\n",
      "At iteration 20 obj = 8.487770557748984\n",
      "At iteration 30 obj = 8.28198689755699\n",
      "At iteration 40 obj = 8.098128549963612\n",
      "At iteration 50 obj = 7.933955800888958\n",
      "At iteration 60 obj = 7.785872991823892\n",
      "At iteration 70 obj = 7.650753325311406\n",
      "At iteration 80 obj = 7.52615060336678\n",
      "At iteration 90 obj = 7.410188188400873\n",
      "At iteration 100 obj = 7.301422591306192\n",
      "Now for Newton \n",
      "At initial guess obj = 9.0\n",
      "At iteration 1 obj = 105.93924292104158\n",
      "At iteration 2 obj = 126.6205786600929\n",
      "At iteration 3 obj = 182.85400113825946\n",
      "At iteration 4 obj = 343.6333994179984\n",
      "At iteration 5 obj = 436.3586171045547\n",
      "At iteration 6 obj = 252.56686372653868\n",
      "At iteration 7 obj = 526.0980684641479\n",
      "At iteration 8 obj = 416.6633226446785\n",
      "At iteration 9 obj = 0.7606102988509199\n",
      "At iteration 10 obj = 3.8082531610035275\n",
      "At iteration 11 obj = 0.11005306862251926\n",
      "At iteration 12 obj = 0.7667041586551342\n",
      "At iteration 13 obj = 4.274421151304933e-6\n",
      "At iteration 14 obj = 1.207954020517505e-11\n",
      "At iteration 15 obj = 8.435625581350841e-21\n",
      "At iteration 16 obj = 0.0\n",
      "At iteration 17 obj = 0.0\n",
      "At iteration 18 obj = 0.0\n",
      "At iteration 19 obj = 0.0\n",
      "At iteration 20 obj = 0.0\n"
     ]
    },
    {
     "data": {
      "text/plain": [
       "([1.0, 1.0, 1.0, 1.0, 1.0, 1.0, 1.0, 1.0, 1.0, 1.0], MatrixFreeNewton.NewtonLogger(1.0, [9.0, 105.93924292104158, 126.6205786600929, 182.85400113825946, 343.6333994179984, 436.3586171045547, 252.56686372653868, 526.0980684641479, 416.6633226446785, 0.7606102988509199  …  0.11005306862251926, 0.7667041586551342, 4.274421151304933e-6, 1.207954020517505e-11, 8.435625581350841e-21, 0.0, 0.0, 0.0, 0.0, 0.0]))"
      ]
     },
     "execution_count": 2,
     "metadata": {},
     "output_type": "execute_result"
    }
   ],
   "source": [
    "function rosenbrockn(x)\n",
    "    f = 0.0\n",
    "    for i = 1:size(x)[1]-1\n",
    "        f += 100*(x[i+1] - x[i]^2)^2 + (1 - x[i])^2\n",
    "    end\n",
    "    return f\n",
    "end\n",
    "\n",
    "n = 10\n",
    "print(\"Now for gradient descent \\n\")\n",
    "w_star_gd,logger_gd = gradientDescent(rosenbrockn,zeros(n))\n",
    "\n",
    "print(\"Now for curvature gradient descent \\n\")\n",
    "w_star_gd,logger_curve_gd = curvatureScaledGradientDescent(rosenbrockn,zeros(n))\n",
    "\n",
    "print(\"Now for Newton \\n\")\n",
    "w_star_newton,logger_full_newton = fullNewton(rosenbrockn,zeros(n),printing_frequency = 1,\n",
    "                                                                alpha = 1e0,iterations=2*n)\n",
    "\n"
   ]
  },
  {
   "cell_type": "code",
   "execution_count": 3,
   "id": "640d296d",
   "metadata": {
    "scrolled": true
   },
   "outputs": [
    {
     "name": "stdout",
     "output_type": "stream",
     "text": [
      "Now for low rank SFNewton with full Hessian \n",
      "At initial guess obj = 9.0\n",
      "\n",
      "At iteration 10 obj = 3.8105973341977375 lambda_1 = 3007.775619391618 lambda_r = 0.2993543154612438\n",
      "At iteration 20 obj = 0.0 lambda_1 = 1762.8408814945562 lambda_r = 0.4987517495768474\n",
      "Now for low rank SFNewton with reduced Hessian with half rank \n",
      "half rank = 9\n",
      "At initial guess obj = 9.0\n",
      "\n",
      "At iteration 10 obj = 8.555424352834542 lambda_1 = 235.28980103640703 lambda_r = 197.32720951608903\n",
      "At iteration 20 obj = 8.075658936963944 lambda_1 = 342.7731327919445 lambda_r = 189.58015944578548\n"
     ]
    },
    {
     "data": {
      "text/plain": [
       "([0.39607416510950777, 0.15080531908710137, 0.018670881998069818, 0.0035513570910272897, -0.002253241075179418, 0.009274092597504117, -0.007950681730175472, -0.00014529326395896995, -0.0024691976744062984, -0.006389371030756562], MatrixFreeNewton.SFNLogger(0.0001, [9.0, 8.960276216274545, 8.919192368721983, 8.876848393122758, 8.833358222597024, 8.788845645129934, 8.743439783926007, 8.697270694566306, 8.650465526789011, 8.603145572425682  …  8.507406732776987, 8.459188917000901, 8.410859107121233, 8.36249856914243, 8.314182874799288, 8.265983117791643, 8.217966955434393, 8.170199377559651, 8.122743152001071, 8.075658936963944], [202.0000000000002 202.35845069865906 … 329.6751060739241 342.7731327919445; 202.00000000000006 202.15809678114442 … 207.41072587000286 207.81216914220315; … ; 201.87747038113054 201.84206921990733 … 198.2527899081301 197.99936278014235; 199.97303379668762 199.97178167168573 … 190.18304112387693 189.58015944578548]))"
      ]
     },
     "execution_count": 3,
     "metadata": {},
     "output_type": "execute_result"
    }
   ],
   "source": [
    "print(\"Now for low rank SFNewton with full Hessian \\n\")\n",
    "w_star_newton,logger_full_sfn = lowRankSaddleFreeNewton(rosenbrockn,zeros(n),\n",
    "                                                            iterations = 2*n,rank = n)\n",
    "\n",
    "half_rank = Int(floor(0.9*n))\n",
    "print(\"Now for low rank SFNewton with reduced Hessian with half rank \\n\")\n",
    "println(\"half rank = \",half_rank)\n",
    "w_star_newton,logger_lrsfn = lowRankSaddleFreeNewton(rosenbrockn,zeros(n),alpha = 1e-4,\n",
    "                                                    gamma = 1e-2,iterations = 2*n,rank = half_rank)\n",
    "\n",
    "# print(\"Now for low rank SFNewton with gradient based Hessian \\n\")\n",
    "# w_star_newton,trace_newton = lowRankSaddleFreeNewton(rosenbrockn,zeros(n),hessian = \"from_gradient\",\n",
    "#                                                             iterations = 2*n,history = false,rank = n)"
   ]
  },
  {
   "cell_type": "code",
   "execution_count": 4,
   "id": "fed4d447",
   "metadata": {},
   "outputs": [
    {
     "data": {
      "text/plain": [
       "101-element Vector{Float64}:\n",
       "    9.0\n",
       " 4809.0\n",
       "    8.255681876505609e15\n",
       "    5.951969133663163e53\n",
       "    5.373886071433855e167\n",
       "   Inf\n",
       "   Inf\n",
       "  NaN\n",
       "  NaN\n",
       "  NaN\n",
       "  NaN\n",
       "  NaN\n",
       "  NaN\n",
       "    ⋮\n",
       "  NaN\n",
       "  NaN\n",
       "  NaN\n",
       "  NaN\n",
       "  NaN\n",
       "  NaN\n",
       "  NaN\n",
       "  NaN\n",
       "  NaN\n",
       "  NaN\n",
       "  NaN\n",
       "  NaN"
      ]
     },
     "execution_count": 4,
     "metadata": {},
     "output_type": "execute_result"
    }
   ],
   "source": [
    "logger_gd.losses"
   ]
  },
  {
   "cell_type": "code",
   "execution_count": 5,
   "id": "f3260f1d",
   "metadata": {},
   "outputs": [
    {
     "data": {
      "text/plain": [
       "21-element Vector{Float64}:\n",
       " 9.0\n",
       " 8.960276216274545\n",
       " 8.919192368721983\n",
       " 8.876848393122758\n",
       " 8.833358222597024\n",
       " 8.788845645129934\n",
       " 8.743439783926007\n",
       " 8.697270694566306\n",
       " 8.650465526789011\n",
       " 8.603145572425682\n",
       " 8.555424352834542\n",
       " 8.507406732776987\n",
       " 8.459188917000901\n",
       " 8.410859107121233\n",
       " 8.36249856914243\n",
       " 8.314182874799288\n",
       " 8.265983117791643\n",
       " 8.217966955434393\n",
       " 8.170199377559651\n",
       " 8.122743152001071\n",
       " 8.075658936963944"
      ]
     },
     "execution_count": 5,
     "metadata": {},
     "output_type": "execute_result"
    }
   ],
   "source": [
    "logger_lrsfn.losses"
   ]
  },
  {
   "cell_type": "code",
   "execution_count": 6,
   "id": "cb2c9216",
   "metadata": {},
   "outputs": [
    {
     "data": {
      "text/plain": [
       "9-element ElasticArrays.ElasticVector{Float64, Vector{Float64}}:\n",
       " 202.0000000000002\n",
       " 202.00000000000006\n",
       " 202.0\n",
       " 201.99999999999997\n",
       " 201.99999999999997\n",
       " 201.99999999999994\n",
       " 201.9999999999999\n",
       " 201.87747038113054\n",
       " 199.97303379668762"
      ]
     },
     "execution_count": 6,
     "metadata": {},
     "output_type": "execute_result"
    }
   ],
   "source": [
    "logger_lrsfn.spectra[:,1]"
   ]
  },
  {
   "cell_type": "code",
   "execution_count": null,
   "id": "c80850e2",
   "metadata": {},
   "outputs": [],
   "source": []
  }
 ],
 "metadata": {
  "kernelspec": {
   "display_name": "Julia 1.6.0",
   "language": "julia",
   "name": "julia-1.6"
  },
  "language_info": {
   "file_extension": ".jl",
   "mimetype": "application/julia",
   "name": "julia",
   "version": "1.6.0"
  }
 },
 "nbformat": 4,
 "nbformat_minor": 5
}
