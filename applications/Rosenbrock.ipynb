{
 "cells": [
  {
   "cell_type": "code",
   "execution_count": 1,
   "id": "318d0aec",
   "metadata": {},
   "outputs": [],
   "source": [
    "using Random\n",
    "\n",
    "using ScalableNewton"
   ]
  },
  {
   "cell_type": "markdown",
   "id": "b41e0c2e",
   "metadata": {},
   "source": [
    "## [n-dimensional Rosenbrock](https://arxiv.org/pdf/1903.09556.pdf)\n",
    "\n",
    "\n",
    "$\\sum_{i=1}^{n-1} [100(x_{i+1} - x_i^2)^2 + (1-x_i)^2]$"
   ]
  },
  {
   "cell_type": "code",
   "execution_count": 2,
   "id": "4471cc8a",
   "metadata": {},
   "outputs": [
    {
     "name": "stdout",
     "output_type": "stream",
     "text": [
      "Now for gradient descent \n",
      "At initial guess obj = 9.0\n",
      "At iteration 10 obj = NaN\n",
      "At iteration 20 obj = NaN\n",
      "At iteration 30 obj = NaN\n",
      "At iteration 40 obj = NaN\n",
      "At iteration 50 obj = NaN\n",
      "At iteration 60 obj = NaN\n",
      "At iteration 70 obj = NaN\n",
      "At iteration 80 obj = NaN\n",
      "At iteration 90 obj = NaN\n",
      "At iteration 100 obj = NaN\n",
      "Now for curvature gradient descent \n",
      "At initial guess obj = 9.0\n",
      "At iteration 10 obj = 8.709303623211357\n",
      "At iteration 20 obj = 8.487770557748984\n",
      "At iteration 30 obj = 8.28198689755699\n",
      "At iteration 40 obj = 8.098128549963612\n",
      "At iteration 50 obj = 7.933955800888958\n",
      "At iteration 60 obj = 7.785872991823892\n",
      "At iteration 70 obj = 7.650753325311406\n",
      "At iteration 80 obj = 7.52615060336678\n",
      "At iteration 90 obj = 7.410188188400873\n",
      "At iteration 100 obj = 7.301422591306192\n",
      "Now for Newton \n",
      "At initial guess obj = 9.0\n",
      "At iteration 1 obj = 105.93924292104158\n",
      "At iteration 2 obj = 126.6205786600929\n",
      "At iteration 3 obj = 182.85400113825946\n",
      "At iteration 4 obj = 343.6333994179984\n",
      "At iteration 5 obj = 436.3586171045547\n",
      "At iteration 6 obj = 252.56686372653868\n",
      "At iteration 7 obj = 526.0980684641479\n",
      "At iteration 8 obj = 416.6633226446785\n",
      "At iteration 9 obj = 0.7606102988509199\n",
      "At iteration 10 obj = 3.8082531610035275\n",
      "At iteration 11 obj = 0.11005306862251926\n",
      "At iteration 12 obj = 0.7667041586551342\n",
      "At iteration 13 obj = 4.274421151304933e-6\n",
      "At iteration 14 obj = 1.207954020517505e-11\n",
      "At iteration 15 obj = 8.435625581350841e-21\n",
      "At iteration 16 obj = 0.0\n",
      "At iteration 17 obj = 0.0\n",
      "At iteration 18 obj = 0.0\n",
      "At iteration 19 obj = 0.0\n",
      "At iteration 20 obj = 0.0\n"
     ]
    },
    {
     "data": {
      "text/plain": [
       "([1.0, 1.0, 1.0, 1.0, 1.0, 1.0, 1.0, 1.0, 1.0, 1.0], ScalableNewton.NewtonLogger(1.0, [9.0, 105.93924292104158, 126.6205786600929, 182.85400113825946, 343.6333994179984, 436.3586171045547, 252.56686372653868, 526.0980684641479, 416.6633226446785, 0.7606102988509199  …  0.11005306862251926, 0.7667041586551342, 4.274421151304933e-6, 1.207954020517505e-11, 8.435625581350841e-21, 0.0, 0.0, 0.0, 0.0, 0.0]))"
      ]
     },
     "execution_count": 2,
     "metadata": {},
     "output_type": "execute_result"
    }
   ],
   "source": [
    "function rosenbrockn(x)\n",
    "    f = 0.0\n",
    "    for i = 1:size(x)[1]-1\n",
    "        f += 100*(x[i+1] - x[i]^2)^2 + (1 - x[i])^2\n",
    "    end\n",
    "    return f\n",
    "end\n",
    "\n",
    "n = 10\n",
    "print(\"Now for gradient descent \\n\")\n",
    "w_star_gd,logger_gd = gradientDescent(rosenbrockn,zeros(n))\n",
    "\n",
    "print(\"Now for curvature gradient descent \\n\")\n",
    "w_star_gd,logger_curve_gd = curvatureScaledGradientDescent(rosenbrockn,zeros(n))\n",
    "\n",
    "print(\"Now for Newton \\n\")\n",
    "w_star_newton,logger_full_newton = fullNewton(rosenbrockn,zeros(n),alpha = 1e0,iterations=2*n)\n",
    "\n"
   ]
  },
  {
   "cell_type": "code",
   "execution_count": 3,
   "id": "640d296d",
   "metadata": {
    "scrolled": true
   },
   "outputs": [
    {
     "name": "stdout",
     "output_type": "stream",
     "text": [
      "Now for low rank SFNewton with full Hessian \n",
      "At initial guess obj = 9.0\n",
      "\n",
      "At iteration 1 obj = 105.9372628392383 lambda_1 = 202.0 lambda_r = 2.0\n",
      "At iteration 2 obj = 126.6157922667713 lambda_1 = 1338.3544908236352 lambda_r = 57.732325573609366\n",
      "At iteration 3 obj = 182.84013309458913 lambda_1 = 1818.8897958505645 lambda_r = 55.830110187725914\n",
      "At iteration 4 obj = 343.5834988406558 lambda_1 = 2182.829301281455 lambda_r = 55.70087391595083\n",
      "At iteration 5 obj = 436.27944038663406 lambda_1 = 2896.510656303326 lambda_r = 56.802027184382474\n",
      "At iteration 6 obj = 252.46748856700808 lambda_1 = 3556.3555532387154 lambda_r = 60.24289234121143\n",
      "At iteration 7 obj = 525.7119939514522 lambda_1 = 2522.065207853143 lambda_r = 57.95239903840006\n",
      "At iteration 8 obj = 416.4757036423344 lambda_1 = 3464.0425800764074 lambda_r = 61.329514050228006\n",
      "At iteration 9 obj = 0.7598952262399751 lambda_1 = 3737.555982461642 lambda_r = 48.45440082438159\n",
      "At iteration 10 obj = 3.8112275584127744 lambda_1 = 3007.771956678008 lambda_r = 0.29934115022479824\n",
      "At iteration 11 obj = 0.10979806711226375 lambda_1 = 2122.7946885373335 lambda_r = 9.666017900820862\n",
      "At iteration 12 obj = 0.7630101558484709 lambda_1 = 2049.557999741392 lambda_r = 0.31846368618062115\n",
      "At iteration 13 obj = 4.2430078159863546e-6 lambda_1 = 1771.6207021253763 lambda_r = 7.066946192897831\n",
      "At iteration 14 obj = 1.25302772392638e-11 lambda_1 = 1762.993618974846 lambda_r = 0.5025356774735883\n",
      "At iteration 15 obj = 1.6610000992650585e-20 lambda_1 = 1762.8419218260262 lambda_r = 0.4987527189416596\n",
      "At iteration 16 obj = 1.7897281787201705e-29 lambda_1 = 1762.8408815228242 lambda_r = 0.49875175019496965\n",
      "At iteration 17 obj = 0.0 lambda_1 = 1762.8408814945567 lambda_r = 0.4987517495767406\n",
      "At iteration 18 obj = 0.0 lambda_1 = 1762.8408814945562 lambda_r = 0.49875174957719537\n",
      "At iteration 19 obj = 0.0 lambda_1 = 1762.8408814945562 lambda_r = 0.49875174957719537\n",
      "At iteration 20 obj = 0.0 lambda_1 = 1762.8408814945562 lambda_r = 0.49875174957719537\n",
      "Now for low rank SFNewton with reduced Hessian with half rank \n",
      "half rank = 9\n",
      "At initial guess obj = 9.0\n",
      "\n",
      "At iteration 1 obj = 8.960276216274545 lambda_1 = 202.0000000000002 lambda_r = 199.97303379668762\n",
      "At iteration 2 obj = 8.919192368721983 lambda_1 = 202.35845069865906 lambda_r = 199.97178167168573\n",
      "At iteration 3 obj = 8.876848393122758 lambda_1 = 203.49087636925694 lambda_r = 199.96921029504946\n",
      "At iteration 4 obj = 8.833358222597024 lambda_1 = 205.45818933586025 lambda_r = 199.96532277943817\n",
      "At iteration 5 obj = 8.788845645129934 lambda_1 = 208.28005527981924 lambda_r = 199.96015106909738\n",
      "At iteration 6 obj = 8.743439783926007 lambda_1 = 211.96870925843993 lambda_r = 199.95369440420697\n",
      "At iteration 7 obj = 8.697270694566306 lambda_1 = 216.52626318420033 lambda_r = 199.81024724875036\n",
      "At iteration 8 obj = 8.650465526789011 lambda_1 = 221.94486898245634 lambda_r = 199.04915511072045\n",
      "At iteration 9 obj = 8.603145572425682 lambda_1 = 228.20761474389718 lambda_r = 198.21368047661448\n",
      "At iteration 10 obj = 8.555424352834542 lambda_1 = 235.28980103640703 lambda_r = 197.32720951608903\n",
      "At iteration 11 obj = 8.507406732776987 lambda_1 = 243.16038633368507 lambda_r = 196.41367260537206\n",
      "At iteration 12 obj = 8.459188917000901 lambda_1 = 251.78343026040196 lambda_r = 195.4965188727832\n",
      "At iteration 13 obj = 8.410859107121233 lambda_1 = 261.1194079420636 lambda_r = 194.5972290976948\n",
      "At iteration 14 obj = 8.36249856914243 lambda_1 = 271.12631987215747 lambda_r = 193.7338041863953\n",
      "At iteration 15 obj = 8.314182874799288 lambda_1 = 281.7605699194822 lambda_r = 192.91931369165772\n",
      "At iteration 16 obj = 8.265983117791643 lambda_1 = 292.9776220982967 lambda_r = 192.1606368896193\n",
      "At iteration 17 obj = 8.217966955434393 lambda_1 = 304.73247153513506 lambda_r = 191.4576175694399\n",
      "At iteration 18 obj = 8.170199377559651 lambda_1 = 316.97997721742115 lambda_r = 190.80294084557372\n",
      "At iteration 19 obj = 8.122743152001071 lambda_1 = 329.6751060739241 lambda_r = 190.18304112387693\n",
      "At iteration 20 obj = 8.075658936963944 lambda_1 = 342.7731327919445 lambda_r = 189.58015944578548\n",
      "At iteration 21 obj = 8.029005084098987 lambda_1 = 356.2298303882025 lambda_r = 188.9752661897807\n",
      "At iteration 22 obj = 7.982837181995915 lambda_1 = 370.0016752440321 lambda_r = 188.35113582200788\n",
      "At iteration 23 obj = 7.937207408166151 lambda_1 = 384.04607883162134 lambda_r = 187.69472459196328\n",
      "At iteration 24 obj = 7.89216376851328 lambda_1 = 398.32164793447555 lambda_r = 186.99831214033594\n",
      "At iteration 25 obj = 7.847749307017327 lambda_1 = 412.7884666312013 lambda_r = 186.2594089201089\n",
      "At iteration 26 obj = 7.804001365350968 lambda_1 = 427.40838715422444 lambda_r = 185.47983201734917\n",
      "At iteration 27 obj = 7.760950963226654 lambda_1 = 442.1453131404977 lambda_r = 184.66443943543698\n",
      "At iteration 28 obj = 7.718622356653315 lambda_1 = 456.9654576789028 lambda_r = 183.81987975874435\n",
      "At iteration 29 obj = 7.677032814481003 lambda_1 = 471.83755962536446 lambda_r = 182.9535324137788\n",
      "At iteration 30 obj = 7.636192635314178 lambda_1 = 486.7330444369247 lambda_r = 182.07268411832\n",
      "At iteration 31 obj = 7.5961054087336395 lambda_1 = 501.62611971757804 lambda_r = 181.18392520180504\n",
      "At iteration 32 obj = 7.556768508229812 lambda_1 = 516.4938002059661 lambda_r = 180.29273289710267\n",
      "At iteration 33 obj = 7.518173789411289 lambda_1 = 531.3158615527763 lambda_r = 179.4032127072542\n",
      "At iteration 34 obj = 7.480308456577479 lambda_1 = 546.0747265133592 lambda_r = 178.517977985673\n",
      "At iteration 35 obj = 7.443156053854405 lambda_1 = 560.7552908157672 lambda_r = 177.63815462964487\n",
      "At iteration 36 obj = 7.406697533617808 lambda_1 = 575.3446987745067 lambda_r = 176.76349975547774\n",
      "At iteration 37 obj = 7.370912354402703 lambda_1 = 589.8320806343631 lambda_r = 175.89262030460702\n",
      "At iteration 38 obj = 7.335779562290016 lambda_1 = 604.2082646653687 lambda_r = 175.02327104572285\n",
      "At iteration 39 obj = 7.301278813195019 lambda_1 = 618.4654772731344 lambda_r = 174.15270374432328\n",
      "At iteration 40 obj = 7.267391297954942 lambda_1 = 632.5970439622029 lambda_r = 173.27803329420018\n",
      "At iteration 41 obj = 7.234100537167008 lambda_1 = 646.597103034412 lambda_r = 172.39658499415003\n",
      "At iteration 42 obj = 7.201393018086264 lambda_1 = 660.4603425586688 lambda_r = 171.50619125751143\n",
      "At iteration 43 obj = 7.169258651452272 lambda_1 = 674.1817695382467 lambda_r = 170.60541527386272\n",
      "At iteration 44 obj = 7.137691031904606 lambda_1 = 687.7565184308523 lambda_r = 169.69369118203426\n",
      "At iteration 45 obj = 7.106687491768716 lambda_1 = 701.1797043278304 lambda_r = 168.77138211671544\n",
      "At iteration 46 obj = 7.076248944542844 lambda_1 = 714.4463242346544 lambda_r = 167.83976652558908\n",
      "At iteration 47 obj = 7.046379521421442 lambda_1 = 727.5512080637376 lambda_r = 166.90096820930842\n",
      "At iteration 48 obj = 7.017086011558512 lambda_1 = 740.489019191484 lambda_r = 165.95784679660974\n",
      "At iteration 49 obj = 6.98837712426531 lambda_1 = 753.254302778385 lambda_r = 165.013863919821\n",
      "At iteration 50 obj = 6.96026259856164 lambda_1 = 765.8415785363002 lambda_r = 164.07293754316237\n",
      "At iteration 51 obj = 6.932752191944666 lambda_1 = 778.2454732830197 lambda_r = 163.1392938261505\n",
      "At iteration 52 obj = 6.905854585312585 lambda_1 = 790.4608874837288 lambda_r = 162.21732324913364\n",
      "At iteration 53 obj = 6.87957624407785 lambda_1 = 802.4831890758253 lambda_r = 161.31144574399244\n",
      "At iteration 54 obj = 6.853920276078785 lambda_1 = 814.3084272421033 lambda_r = 160.4259882313215\n",
      "At iteration 55 obj = 6.828885324533274 lambda_1 = 825.9335584719092 lambda_r = 159.56507709574444\n",
      "At iteration 56 obj = 6.804464528750376 lambda_1 = 837.3566772634807 lambda_r = 158.73254753118744\n",
      "At iteration 57 obj = 6.7806445766372745 lambda_1 = 848.5772442012334 lambda_r = 157.93187118800446\n",
      "At iteration 58 obj = 6.757404861469189 lambda_1 = 859.5963049071789 lambda_r = 157.16610304256596\n",
      "At iteration 59 obj = 6.734716741405205 lambda_1 = 870.4166945172215 lambda_r = 156.43784783732374\n",
      "At iteration 60 obj = 6.712542884455847 lambda_1 = 881.0432238479721 lambda_r = 155.74924580599045\n",
      "At iteration 61 obj = 6.690836664690205 lambda_1 = 891.4828452452041 lambda_r = 155.10197673915843\n",
      "At iteration 62 obj = 6.669541557948788 lambda_1 = 901.7447981560958 lambda_r = 154.4972808122892\n",
      "At iteration 63 obj = 6.6485904674694805 lambda_1 = 911.8407366275551 lambda_r = 153.93599404330794\n",
      "At iteration 64 obj = 6.627904891493643 lambda_1 = 921.7848430600491 lambda_r = 153.41859581154355\n",
      "At iteration 65 obj = 6.607393825438643 lambda_1 = 931.5939344792926 lambda_r = 152.94526557143988\n",
      "At iteration 66 obj = 6.586952269395447 lambda_1 = 941.2875691507882 lambda_r = 152.51594572200068\n",
      "At iteration 67 obj = 6.566459185839248 lambda_1 = 950.8881623586997 lambda_r = 152.13040750100805\n",
      "At iteration 68 obj = 6.545774720554913 lambda_1 = 960.4211203653996 lambda_r = 151.78831667886072\n",
      "At iteration 69 obj = 6.524736460103383 lambda_1 = 969.9150006409628 lambda_r = 151.48929560536948\n",
      "At iteration 70 obj = 6.503154451096043 lambda_1 = 979.4017039199647 lambda_r = 151.23297763864952\n",
      "At iteration 71 obj = 6.480804652668532 lambda_1 = 988.9166987375244 lambda_r = 151.01904892011788\n",
      "At iteration 72 obj = 6.457420443486857 lambda_1 = 998.4992705844229 lambda_r = 150.84727053699152\n",
      "At iteration 73 obj = 6.432681782588788 lambda_1 = 1008.1927737646513 lambda_r = 150.71747093116102\n",
      "At iteration 74 obj = 6.4062016819943 lambda_1 = 1018.044841514172 lambda_r = 150.6294935124096\n",
      "At iteration 75 obj = 6.377509893366774 lambda_1 = 1028.1074748074257 lambda_r = 150.58307744010165\n",
      "At iteration 76 obj = 6.346034336090592 lambda_1 = 1038.4368772780686 lambda_r = 150.57764056386026\n",
      "At iteration 77 obj = 6.3110821324243265 lambda_1 = 1049.0928275153549 lambda_r = 150.61192411827477\n",
      "At iteration 78 obj = 6.271824664469044 lambda_1 = 1060.1372787967218 lambda_r = 150.68345389442138\n",
      "At iteration 79 obj = 6.227295397704042 lambda_1 = 1071.6317599318863 lambda_r = 150.78778385264673\n",
      "At iteration 80 obj = 6.176415514938796 lambda_1 = 1083.6330571813958 lambda_r = 150.9175374597386\n",
      "At iteration 81 obj = 6.1180692604259 lambda_1 = 1096.1866770053239 lambda_r = 151.0613811128987\n",
      "At iteration 82 obj = 6.0512531129590785 lambda_1 = 1109.317888414142 lambda_r = 151.20327608797072\n",
      "At iteration 83 obj = 5.975309774420181 lambda_1 = 1123.0209381528016 lambda_r = 151.3226201029699\n",
      "At iteration 84 obj = 5.8902172173461285 lambda_1 = 1137.2484328342257 lambda_r = 151.3960162552835\n",
      "At iteration 85 obj = 5.7968379315956025 lambda_1 = 1151.9045495669307 lambda_r = 151.4010453546033\n",
      "At iteration 86 obj = 5.696986240545341 lambda_1 = 1166.846545673533 lambda_r = 151.3213457478639\n",
      "At iteration 87 obj = 5.593212059527979 lambda_1 = 1181.8974252643857 lambda_r = 151.15100292694945\n",
      "At iteration 88 obj = 5.488344993551827 lambda_1 = 1196.8681525843317 lambda_r = 150.89597842449126\n",
      "At iteration 89 obj = 5.384989880174876 lambda_1 = 1211.5827768161253 lambda_r = 150.5718381127056\n",
      "At iteration 90 obj = 5.285178209632333 lambda_1 = 1225.8981346252244 lambda_r = 150.1992736847894\n",
      "At iteration 91 obj = 5.190257370522069 lambda_1 = 1239.712975081461 lambda_r = 149.79982245004416\n",
      "At iteration 92 obj = 5.10096646324127 lambda_1 = 1252.9667305189314 lambda_r = 149.39326014288744\n",
      "At iteration 93 obj = 5.017596452081462 lambda_1 = 1265.6318119419475 lambda_r = 148.99667697058612\n",
      "At iteration 94 obj = 4.940154016822082 lambda_1 = 1277.7038069377181 lambda_r = 148.62449008540378\n",
      "At iteration 95 obj = 4.868490840233724 lambda_1 = 1289.1925073249338 lambda_r = 148.28869458652343\n",
      "At iteration 96 obj = 4.8023909527510575 lambda_1 = 1300.114987801618 lambda_r = 147.99900948942854\n",
      "At iteration 97 obj = 4.741622850096979 lambda_1 = 1310.4908358633302 lambda_r = 147.76286193151586\n",
      "At iteration 98 obj = 4.685966377884465 lambda_1 = 1320.3391457090058 lambda_r = 147.58528266012\n",
      "At iteration 99 obj = 4.635223050636682 lambda_1 = 1329.6767933557712 lambda_r = 147.46880753397602\n",
      "At iteration 100 obj = 4.589216061322438 lambda_1 = 1338.517584087586 lambda_r = 147.41345622085055\n"
     ]
    },
    {
     "data": {
      "text/plain": [
       "([0.9553351468282614, 0.8983357406612887, 0.7956001838044323, 0.6399839290517407, 0.40947758337521367, 0.19129895026581192, -0.004017688288986293, -0.0010664346611118747, -0.011472740691958668, -0.03101613028905738], ScalableNewton.SFNLogger(0.0001, [9.0, 8.960276216274545, 8.919192368721983, 8.876848393122758, 8.833358222597024, 8.788845645129934, 8.743439783926007, 8.697270694566306, 8.650465526789011, 8.603145572425682  …  5.190257370522069, 5.10096646324127, 5.017596452081462, 4.940154016822082, 4.868490840233724, 4.8023909527510575, 4.741622850096979, 4.685966377884465, 4.635223050636682, 4.589216061322438], [202.0000000000002 202.35845069865906 … 1329.6767933557712 1338.517584087586; 202.00000000000006 202.15809678114442 … 893.2755715841301 904.7062735620372; … ; 201.87747038113054 201.84206921990733 … 198.67914552811405 198.65289317318118; 199.97303379668762 199.97178167168573 … 147.46880753397602 147.41345622085055]))"
      ]
     },
     "execution_count": 3,
     "metadata": {},
     "output_type": "execute_result"
    }
   ],
   "source": [
    "print(\"Now for low rank SFNewton with full Hessian \\n\")\n",
    "w_star_newton,logger_full_sfn = lowRankSaddleFreeNewton(rosenbrockn,zeros(n),hessian = \"full\",\n",
    "                                                            iterations = 2*n,rank = n)\n",
    "\n",
    "half_rank = Int(floor(0.9*n))\n",
    "print(\"Now for low rank SFNewton with reduced Hessian with half rank \\n\")\n",
    "println(\"half rank = \",half_rank)\n",
    "w_star_newton,logger_lrsfn = lowRankSaddleFreeNewton(rosenbrockn,zeros(n),hessian = \"reduced\",alpha = 1e-4,\n",
    "                                                    gamma = 1e-2,iterations = 100,rank = half_rank)\n",
    "\n",
    "# print(\"Now for low rank SFNewton with gradient based Hessian \\n\")\n",
    "# w_star_newton,trace_newton = lowRankSaddleFreeNewton(rosenbrockn,zeros(n),hessian = \"from_gradient\",\n",
    "#                                                             iterations = 2*n,history = false,rank = n)"
   ]
  },
  {
   "cell_type": "code",
   "execution_count": 4,
   "id": "fed4d447",
   "metadata": {},
   "outputs": [
    {
     "data": {
      "text/plain": [
       "101-element Vector{Float64}:\n",
       "    9.0\n",
       " 4809.0\n",
       "    8.255681876505609e15\n",
       "    5.951969133663163e53\n",
       "    5.373886071433855e167\n",
       "   Inf\n",
       "   Inf\n",
       "  NaN\n",
       "  NaN\n",
       "  NaN\n",
       "  NaN\n",
       "  NaN\n",
       "  NaN\n",
       "    ⋮\n",
       "  NaN\n",
       "  NaN\n",
       "  NaN\n",
       "  NaN\n",
       "  NaN\n",
       "  NaN\n",
       "  NaN\n",
       "  NaN\n",
       "  NaN\n",
       "  NaN\n",
       "  NaN\n",
       "  NaN"
      ]
     },
     "execution_count": 4,
     "metadata": {},
     "output_type": "execute_result"
    }
   ],
   "source": [
    "logger_gd.losses"
   ]
  },
  {
   "cell_type": "code",
   "execution_count": 5,
   "id": "f3260f1d",
   "metadata": {},
   "outputs": [
    {
     "data": {
      "text/plain": [
       "101-element Vector{Float64}:\n",
       " 9.0\n",
       " 8.960276216274545\n",
       " 8.919192368721983\n",
       " 8.876848393122758\n",
       " 8.833358222597024\n",
       " 8.788845645129934\n",
       " 8.743439783926007\n",
       " 8.697270694566306\n",
       " 8.650465526789011\n",
       " 8.603145572425682\n",
       " 8.555424352834542\n",
       " 8.507406732776987\n",
       " 8.459188917000901\n",
       " ⋮\n",
       " 5.384989880174876\n",
       " 5.285178209632333\n",
       " 5.190257370522069\n",
       " 5.10096646324127\n",
       " 5.017596452081462\n",
       " 4.940154016822082\n",
       " 4.868490840233724\n",
       " 4.8023909527510575\n",
       " 4.741622850096979\n",
       " 4.685966377884465\n",
       " 4.635223050636682\n",
       " 4.589216061322438"
      ]
     },
     "execution_count": 5,
     "metadata": {},
     "output_type": "execute_result"
    }
   ],
   "source": [
    "logger_lrsfn.losses"
   ]
  },
  {
   "cell_type": "code",
   "execution_count": 6,
   "id": "cb2c9216",
   "metadata": {},
   "outputs": [
    {
     "data": {
      "text/plain": [
       "9-element ElasticArrays.ElasticVector{Float64, Vector{Float64}}:\n",
       " 202.0000000000002\n",
       " 202.00000000000006\n",
       " 202.0\n",
       " 201.99999999999997\n",
       " 201.99999999999997\n",
       " 201.99999999999994\n",
       " 201.9999999999999\n",
       " 201.87747038113054\n",
       " 199.97303379668762"
      ]
     },
     "execution_count": 6,
     "metadata": {},
     "output_type": "execute_result"
    }
   ],
   "source": [
    "logger_lrsfn.spectra[:,1]"
   ]
  },
  {
   "cell_type": "code",
   "execution_count": null,
   "id": "c80850e2",
   "metadata": {},
   "outputs": [],
   "source": []
  }
 ],
 "metadata": {
  "kernelspec": {
   "display_name": "Julia 1.6.0",
   "language": "julia",
   "name": "julia-1.6"
  },
  "language_info": {
   "file_extension": ".jl",
   "mimetype": "application/julia",
   "name": "julia",
   "version": "1.6.0"
  }
 },
 "nbformat": 4,
 "nbformat_minor": 5
}
